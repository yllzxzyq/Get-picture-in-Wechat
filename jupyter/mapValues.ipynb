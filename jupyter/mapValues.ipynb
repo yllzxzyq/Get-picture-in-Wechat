{
 "cells": [
  {
   "cell_type": "code",
   "execution_count": 1,
   "metadata": {},
   "outputs": [],
   "source": [
    "from pyspark import SparkContext"
   ]
  },
  {
   "cell_type": "code",
   "execution_count": 3,
   "metadata": {},
   "outputs": [],
   "source": [
    "sc=SparkContext()\n",
    "x=sc.parallelize([1,2,3])"
   ]
  },
  {
   "cell_type": "markdown",
   "metadata": {},
   "source": [
    "#### flatMap(f)\n",
    "flatMap的用法与map类似，只不过map是一个输入元素对应一个输出元素，\n",
    "而flatMap一个输入元素对应多个输出元素。"
   ]
  },
  {
   "cell_type": "code",
   "execution_count": 5,
   "metadata": {},
   "outputs": [
    {
     "data": {
      "text/plain": [
       "[1, 100, 1, 2, 200, 4, 3, 300, 9]"
      ]
     },
     "execution_count": 5,
     "metadata": {},
     "output_type": "execute_result"
    }
   ],
   "source": [
    "xFM1 = x.flatMap(lambda x:(x,x*100,x**2))\n",
    "xFM1.collect()"
   ]
  },
  {
   "cell_type": "code",
   "execution_count": 6,
   "metadata": {},
   "outputs": [
    {
     "data": {
      "text/plain": [
       "[1, 100, 1, 2, 200, 4, 3, 300, 9]"
      ]
     },
     "execution_count": 6,
     "metadata": {},
     "output_type": "execute_result"
    }
   ],
   "source": [
    "xFM2 = x.flatMap(lambda x:[x,x*100,x**2])\n",
    "xFM2.collect()"
   ]
  },
  {
   "cell_type": "code",
   "execution_count": 7,
   "metadata": {},
   "outputs": [
    {
     "data": {
      "text/plain": [
       "[1, (100, 1), 2, (200, 4), 3, (300, 9)]"
      ]
     },
     "execution_count": 7,
     "metadata": {},
     "output_type": "execute_result"
    }
   ],
   "source": [
    "xFM3 = x.flatMap(lambda x:(x,(x*100,x**2)))\n",
    "xFM3.collect()"
   ]
  },
  {
   "cell_type": "markdown",
   "metadata": {},
   "source": [
    "#### mapValues(f)\n",
    "将键值对形式的rdd的值用函数f来作用，而保持键不变，同时分区不变。"
   ]
  },
  {
   "cell_type": "code",
   "execution_count": 8,
   "metadata": {},
   "outputs": [],
   "source": [
    "L = [(i,i**2) for i in range(10)]\n",
    "ex1 = sc.parallelize(L)"
   ]
  },
  {
   "cell_type": "code",
   "execution_count": 10,
   "metadata": {},
   "outputs": [],
   "source": [
    "import math\n",
    "ex_mv = ex1.mapValues(math.sqrt)"
   ]
  },
  {
   "cell_type": "code",
   "execution_count": 11,
   "metadata": {},
   "outputs": [
    {
     "data": {
      "text/plain": [
       "[(0, 0.0),\n",
       " (1, 1.0),\n",
       " (2, 2.0),\n",
       " (3, 3.0),\n",
       " (4, 4.0),\n",
       " (5, 5.0),\n",
       " (6, 6.0),\n",
       " (7, 7.0),\n",
       " (8, 8.0),\n",
       " (9, 9.0)]"
      ]
     },
     "execution_count": 11,
     "metadata": {},
     "output_type": "execute_result"
    }
   ],
   "source": [
    "ex_mv.collect()"
   ]
  },
  {
   "cell_type": "markdown",
   "metadata": {},
   "source": [
    "#### flatMapValues(f)\n",
    "综合flatMap和mapValues的特点。"
   ]
  },
  {
   "cell_type": "code",
   "execution_count": 13,
   "metadata": {},
   "outputs": [],
   "source": [
    "ex_fmv = sc.parallelize([(i,i*10) for i in range(10)])"
   ]
  },
  {
   "cell_type": "code",
   "execution_count": 14,
   "metadata": {},
   "outputs": [],
   "source": [
    "ex_fmv_new = ex_fmv.flatMapValues(lambda x:(x/10,x,x*10))"
   ]
  },
  {
   "cell_type": "code",
   "execution_count": 16,
   "metadata": {},
   "outputs": [
    {
     "data": {
      "text/plain": [
       "{0: 0, 1: 100, 2: 200, 3: 300, 4: 400, 5: 500, 6: 600, 7: 700, 8: 800, 9: 900}"
      ]
     },
     "execution_count": 16,
     "metadata": {},
     "output_type": "execute_result"
    }
   ],
   "source": [
    "ex_fmv_new.collectAsMap()"
   ]
  },
  {
   "cell_type": "code",
   "execution_count": 17,
   "metadata": {},
   "outputs": [
    {
     "data": {
      "text/plain": [
       "[(0, 0.0),\n",
       " (0, 0),\n",
       " (0, 0),\n",
       " (1, 1.0),\n",
       " (1, 10),\n",
       " (1, 100),\n",
       " (2, 2.0),\n",
       " (2, 20),\n",
       " (2, 200),\n",
       " (3, 3.0),\n",
       " (3, 30),\n",
       " (3, 300),\n",
       " (4, 4.0),\n",
       " (4, 40),\n",
       " (4, 400),\n",
       " (5, 5.0),\n",
       " (5, 50),\n",
       " (5, 500),\n",
       " (6, 6.0),\n",
       " (6, 60),\n",
       " (6, 600),\n",
       " (7, 7.0),\n",
       " (7, 70),\n",
       " (7, 700),\n",
       " (8, 8.0),\n",
       " (8, 80),\n",
       " (8, 800),\n",
       " (9, 9.0),\n",
       " (9, 90),\n",
       " (9, 900)]"
      ]
     },
     "execution_count": 17,
     "metadata": {},
     "output_type": "execute_result"
    }
   ],
   "source": [
    "ex_fmv_new.collect()"
   ]
  },
  {
   "cell_type": "code",
   "execution_count": null,
   "metadata": {},
   "outputs": [],
   "source": []
  }
 ],
 "metadata": {
  "kernelspec": {
   "display_name": "Python 3",
   "language": "python",
   "name": "python3"
  },
  "language_info": {
   "codemirror_mode": {
    "name": "ipython",
    "version": 3
   },
   "file_extension": ".py",
   "mimetype": "text/x-python",
   "name": "python",
   "nbconvert_exporter": "python",
   "pygments_lexer": "ipython3",
   "version": "3.7.0"
  }
 },
 "nbformat": 4,
 "nbformat_minor": 2
}
