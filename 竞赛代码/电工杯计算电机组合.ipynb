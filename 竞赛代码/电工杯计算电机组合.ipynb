{
 "cells": [
  {
   "cell_type": "code",
   "execution_count": null,
   "metadata": {},
   "outputs": [],
   "source": [
    "import numpy as np\n",
    "from sklearn.preprocessing import LabelEncoder\n",
    "from sklearn.model_selection import cross_val_score\n",
    "import pandas as pd\n",
    "import xgboost as xgb\n",
    "from xgboost.sklearn import XGBRegressor\n",
    "import matplotlib.pyplot as plt\n",
    "import seaborn as sns\n",
    "import copy\n",
    "import datetime\n",
    "import time\n",
    "from dateutil.parser import parse\n",
    "from sklearn.model_selection import train_test_split\n",
    "import matplotlib.pyplot as plt\n",
    "import pickle\n",
    "import xlab\n",
    "import operator\n",
    "from sklearn import preprocessing\n",
    "\n",
    "def getDateType():\n",
    "    date=pd.read_table('data/da0030/LV35_T_TDW_BOPR_OPR_T80_WKD_PARM_INF_20190130_000AH000.DAT',engine='python',sep = '|',header=None)\n",
    "    date[0]=pd.to_datetime(date[0])\n",
    "    date=date.set_index(0,drop=False)\n",
    "    valid=date['2017':'2019.2.28'].iloc[:,:2].values\n",
    "    d={'date':valid[:,0],'type':valid[:,1]}\n",
    "    df=pd.DataFrame(data=d)\n",
    "    df=df.sort_values(by='date')\n",
    "    df=df.reset_index(drop=True)\n",
    "    df=pd.get_dummies(df,columns=['type'])\n",
    "    df.rename(columns={column:column[:5]+column[6:] for column in df.columns},inplace=True)\n",
    "    return df\n",
    "\n",
    "def build_features(raw_data):\n",
    "    X_raw = copy.deepcopy(raw_data)\n",
    "    X_raw['date']=pd.to_datetime(X_raw['date'],infer_datetime_format=True)\n",
    "    X_raw['type'] = X_raw['type'].apply(lambda x:x[-1])\n",
    "    X_raw['weekday'] = X_raw['date'].dt.weekday\n",
    "    X_raw['is_month_start'] = X_raw['date'].dt.is_month_start\n",
    "    X_raw['is_month_end'] = X_raw['date'].dt.is_month_end\n",
    "    X_raw['ith_week'] = X_raw['date'].dt.week\n",
    "    X_raw['month'] = X_raw['date'].dt.month\n",
    "    lbl = preprocessing.LabelEncoder()\n",
    "    X_raw['id'] = lbl.fit_transform(X_raw['id'].astype(str))#将提示的包含错误数据类型这一列进行转换\n",
    "    X_raw['type'] = lbl.fit_transform(X_raw['type'].astype(str))\n",
    "    return X_raw\n"
   ]
  },
  {
   "cell_type": "code",
   "execution_count": null,
   "metadata": {},
   "outputs": [],
   "source": [
    "train_data = pd.read_csv('./data/da0030/train.csv', encoding='utf-8')\n",
    "test_data = pd.read_csv('./data/da0030/predict.csv', encoding='utf-8')\n",
    "others = getDateType()\n",
    "train_more = build_features(train_data)\n",
    "test_more = build_features(test_data)\n",
    "train_plus=train_more.merge(others, on='date',how='left')\n",
    "test_plus = test_more.merge(others, on ='date',how='left')"
   ]
  }
 ],
 "metadata": {
  "kernelspec": {
   "display_name": "Python 3",
   "language": "python",
   "name": "python3"
  },
  "language_info": {
   "codemirror_mode": {
    "name": "ipython",
    "version": 3
   },
   "file_extension": ".py",
   "mimetype": "text/x-python",
   "name": "python",
   "nbconvert_exporter": "python",
   "pygments_lexer": "ipython3",
   "version": "3.6.4"
  }
 },
 "nbformat": 4,
 "nbformat_minor": 2
}
